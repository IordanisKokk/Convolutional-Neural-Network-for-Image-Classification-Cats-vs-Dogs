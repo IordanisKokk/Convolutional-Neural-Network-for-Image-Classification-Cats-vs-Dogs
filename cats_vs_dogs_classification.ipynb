{
 "cells": [
  {
   "cell_type": "code",
   "execution_count": 70,
   "metadata": {},
   "outputs": [],
   "source": [
    "import torch\n",
    "import torch.nn\n",
    "import torchvision\n",
    "from torchvision import transforms\n",
    "import torch\n",
    "import torch.nn as nn\n",
    "import torch.optim as optim\n",
    "\n",
    "import matplotlib.image as pltim\n",
    "import matplotlib.pyplot as plt\n",
    "from PIL import Image\n",
    "\n",
    "import numpy as np\n",
    "\n"
   ]
  },
  {
   "cell_type": "code",
   "execution_count": 71,
   "metadata": {},
   "outputs": [
    {
     "name": "stdout",
     "output_type": "stream",
     "text": [
      "True\n",
      "cuda\n"
     ]
    }
   ],
   "source": [
    "device=\"cuda\" if torch.cuda.is_available() else \"cpu\"\n",
    "\n",
    "torch.manual_seed(1234)\n",
    "if device == 'cuda':\n",
    "    torch.cuda.manual_seed_all(1234)\n",
    "    \n",
    "print(torch.cuda.is_available())\n",
    "print(device)\n"
   ]
  },
  {
   "cell_type": "code",
   "execution_count": 72,
   "metadata": {},
   "outputs": [],
   "source": [
    "transform = transforms.Compose([\n",
    "    transforms.RandomHorizontalFlip(),\n",
    "    transforms.RandomRotation(10),\n",
    "    transforms.Resize((256,256)),\n",
    "    transforms.ToTensor(),\n",
    "    transforms.Normalize((0.5, 0.5, 0.5), (0.5, 0.5, 0.5))\n",
    "])"
   ]
  },
  {
   "cell_type": "code",
   "execution_count": 73,
   "metadata": {},
   "outputs": [],
   "source": [
    "dataset = torchvision.datasets.ImageFolder(root='./data/train', transform=transform)"
   ]
  },
  {
   "cell_type": "code",
   "execution_count": 74,
   "metadata": {},
   "outputs": [],
   "source": [
    "train_size = int(0.8 * len(dataset))\n",
    "test_size = len(dataset) - train_size\n",
    "train_set, test_set = torch.utils.data.random_split(dataset, [train_size, test_size])\n"
   ]
  },
  {
   "cell_type": "code",
   "execution_count": 75,
   "metadata": {},
   "outputs": [
    {
     "name": "stdout",
     "output_type": "stream",
     "text": [
      "20000\n",
      "5000\n"
     ]
    }
   ],
   "source": [
    "print(len(train_set))\n",
    "print(len(test_set))"
   ]
  },
  {
   "cell_type": "code",
   "execution_count": 76,
   "metadata": {},
   "outputs": [],
   "source": [
    "trainloader = torch.utils.data.DataLoader(train_set, batch_size=4, shuffle=True, num_workers=2)\n",
    "testloader = torch.utils.data.DataLoader(test_set, batch_size=4, shuffle=True, num_workers=2)"
   ]
  },
  {
   "cell_type": "code",
   "execution_count": 77,
   "metadata": {},
   "outputs": [],
   "source": [
    "class ConvNeuralNetwork(nn.Module):\n",
    "    def __init__(self):\n",
    "        super(ConvNeuralNetwork, self).__init__()\n",
    "        self.conv1 = nn.Conv2d(3, 4, 3, padding=1)\n",
    "        self.conv2 = nn.Conv2d(4, 32, 3, padding=1)\n",
    "        self.conv3 = nn.Conv2d(32, 64, 3, padding=1)\n",
    "        self.conv4 = nn.Conv2d(64, 128, 3, padding=1)\n",
    "        self.pool = nn.MaxPool2d(2, 2)\n",
    "        self.fc1 = nn.Linear(512 * 8 * 8, 512)\n",
    "        self.fc2 = nn.Linear(512, 10)\n",
    "        self.relu = nn.ReLU()\n",
    "\n",
    "    def forward(self, x):\n",
    "        x = self.relu(self.conv1(x))\n",
    "        x = self.pool(x)\n",
    "        x = self.relu(self.conv2(x))\n",
    "        x = self.pool(x)\n",
    "        x = self.relu(self.conv3(x))\n",
    "        x = self.pool(x)\n",
    "        x = self.relu(self.conv4(x))\n",
    "        x = self.pool(x)\n",
    "        x = x.view(-1, 512 * 8 * 8)\n",
    "        x = self.relu(self.fc1(x))\n",
    "        x = self.fc2(x)\n",
    "        return x\n",
    "    \n",
    "network = ConvNeuralNetwork()\n",
    "network = network.to(device)"
   ]
  },
  {
   "cell_type": "code",
   "execution_count": 78,
   "metadata": {},
   "outputs": [],
   "source": [
    "criterion = nn.CrossEntropyLoss()\n",
    "optimizer = optim.SGD(network.parameters(), lr=0.001, momentum=0.9)"
   ]
  },
  {
   "cell_type": "code",
   "execution_count": 79,
   "metadata": {},
   "outputs": [],
   "source": [
    "batch_loss = list()"
   ]
  },
  {
   "cell_type": "code",
   "execution_count": 80,
   "metadata": {},
   "outputs": [
    {
     "name": "stdout",
     "output_type": "stream",
     "text": [
      "Epoch 1 - Loss: 0.7808627233207226\n",
      "Epoch 1 - Loss: 0.7096809893548489\n",
      "Epoch 1 - Loss: 0.700310640603304\n",
      "Epoch 1 - Loss: 0.671997168302536\n",
      "Epoch 1 - Loss: 0.6543816395103932\n",
      "Epoch 2 - Loss: 0.6332228549346328\n",
      "Epoch 2 - Loss: 0.616017801374197\n",
      "Epoch 2 - Loss: 0.5959346600361168\n",
      "Epoch 2 - Loss: 0.5705176749192178\n",
      "Epoch 2 - Loss: 0.5740766363292933\n",
      "Epoch 3 - Loss: 0.5493887867629528\n",
      "Epoch 3 - Loss: 0.5179225388169288\n",
      "Epoch 3 - Loss: 0.5150840931534767\n",
      "Epoch 3 - Loss: 0.5064118471592665\n",
      "Epoch 3 - Loss: 0.5053855760134757\n",
      "Epoch 4 - Loss: 0.47147466923482717\n",
      "Epoch 4 - Loss: 0.46852429378777743\n",
      "Epoch 4 - Loss: 0.4713011965118349\n",
      "Epoch 4 - Loss: 0.46080307016335426\n",
      "Epoch 4 - Loss: 0.44071242717467246\n",
      "Epoch 5 - Loss: 0.4308213868374005\n",
      "Epoch 5 - Loss: 0.42425140826404095\n",
      "Epoch 5 - Loss: 0.4283266385812312\n",
      "Epoch 5 - Loss: 0.40412504118680953\n",
      "Epoch 5 - Loss: 0.4079090049862862\n",
      "Epoch 6 - Loss: 0.378820949329529\n",
      "Epoch 6 - Loss: 0.38358554246369747\n",
      "Epoch 6 - Loss: 0.37720985036808996\n",
      "Epoch 6 - Loss: 0.3773556480947882\n",
      "Epoch 6 - Loss: 0.3583126965264091\n",
      "Epoch 7 - Loss: 0.34807243742141875\n",
      "Epoch 7 - Loss: 0.3300245572286658\n",
      "Epoch 7 - Loss: 0.3294114474831149\n",
      "Epoch 7 - Loss: 0.3552450949586928\n",
      "Epoch 7 - Loss: 0.33917567784711716\n",
      "Epoch 8 - Loss: 0.31567990594962614\n",
      "Epoch 8 - Loss: 0.3130452289048117\n",
      "Epoch 8 - Loss: 0.29524648595554753\n",
      "Epoch 8 - Loss: 0.31885031221155075\n",
      "Epoch 8 - Loss: 0.29572962699690836\n",
      "Epoch 9 - Loss: 0.2895860342979431\n",
      "Epoch 9 - Loss: 0.2689180952254683\n",
      "Epoch 9 - Loss: 0.2852731815984007\n",
      "Epoch 9 - Loss: 0.260392351283459\n",
      "Epoch 9 - Loss: 0.26100182011467404\n",
      "Epoch 10 - Loss: 0.23217679213083467\n",
      "Epoch 10 - Loss: 0.24558828856248874\n",
      "Epoch 10 - Loss: 0.2407294885424053\n",
      "Epoch 10 - Loss: 0.24782102143759038\n",
      "Epoch 10 - Loss: 0.24546663709322455\n",
      "Epoch 11 - Loss: 0.22428357672772836\n",
      "Epoch 11 - Loss: 0.2190183669991893\n",
      "Epoch 11 - Loss: 0.22807174119289267\n",
      "Epoch 11 - Loss: 0.22590960765762794\n",
      "Epoch 11 - Loss: 0.21312595064956621\n",
      "Epoch 12 - Loss: 0.19289805424925363\n",
      "Epoch 12 - Loss: 0.21799264777463395\n",
      "Epoch 12 - Loss: 0.19750950108988036\n",
      "Epoch 12 - Loss: 0.2072122130103271\n",
      "Epoch 12 - Loss: 0.19477109781369648\n",
      "Epoch 13 - Loss: 0.1790464456292684\n",
      "Epoch 13 - Loss: 0.17654350123542462\n",
      "Epoch 13 - Loss: 0.19242708866607153\n",
      "Epoch 13 - Loss: 0.17304209442098728\n",
      "Epoch 13 - Loss: 0.18783093338322124\n",
      "Epoch 14 - Loss: 0.16155867944827093\n",
      "Epoch 14 - Loss: 0.16652364150085486\n",
      "Epoch 14 - Loss: 0.15901497676489065\n",
      "Epoch 14 - Loss: 0.16628180348551633\n",
      "Epoch 14 - Loss: 0.1534816502584672\n",
      "Epoch 15 - Loss: 0.14035492103621344\n",
      "Epoch 15 - Loss: 0.14637751709914026\n",
      "Epoch 15 - Loss: 0.12959742902741123\n",
      "Epoch 15 - Loss: 0.1574122074747238\n",
      "Epoch 15 - Loss: 0.15017533093046223\n",
      "Epoch 16 - Loss: 0.1282544184085781\n",
      "Epoch 16 - Loss: 0.12201431970306507\n",
      "Epoch 16 - Loss: 0.1247985129556414\n",
      "Epoch 16 - Loss: 0.12169364662424244\n",
      "Epoch 16 - Loss: 0.13570925551484583\n",
      "Epoch 17 - Loss: 0.12352217387117077\n",
      "Epoch 17 - Loss: 0.10897526102002303\n",
      "Epoch 17 - Loss: 0.12534812546402532\n",
      "Epoch 17 - Loss: 0.11058995088583316\n",
      "Epoch 17 - Loss: 0.12479418560652272\n",
      "Epoch 18 - Loss: 0.10601795282570901\n",
      "Epoch 18 - Loss: 0.1044224863344814\n",
      "Epoch 18 - Loss: 0.11823657691000114\n",
      "Epoch 18 - Loss: 0.10238648893238836\n",
      "Epoch 18 - Loss: 0.11344425125414125\n",
      "Epoch 19 - Loss: 0.10395758212619888\n",
      "Epoch 19 - Loss: 0.08925282876830014\n",
      "Epoch 19 - Loss: 0.09845288368505983\n",
      "Epoch 19 - Loss: 0.09181888694409587\n",
      "Epoch 19 - Loss: 0.09672211546415249\n",
      "Epoch 20 - Loss: 0.08963969185444332\n",
      "Epoch 20 - Loss: 0.08853965264369026\n",
      "Epoch 20 - Loss: 0.08859909539021561\n",
      "Epoch 20 - Loss: 0.09580546449660886\n",
      "Epoch 20 - Loss: 0.11035093915556615\n",
      "Finished Training\n"
     ]
    }
   ],
   "source": [
    "for epoch in range(20):\n",
    "    current_loss = 0.0\n",
    "    for i, data in enumerate(trainloader, 0):\n",
    "        inputs, labels = data\n",
    "        optimizer.zero_grad()\n",
    "        \n",
    "        inputs = inputs.to(device)\n",
    "        labels = labels.to(device)\n",
    "        \n",
    "        outputs = network(inputs)\n",
    "        loss = criterion(outputs, labels)\n",
    "        loss.backward()\n",
    "        optimizer.step()\n",
    "        \n",
    "        current_loss += loss.item()\n",
    "        if i % 1000 == 999:    # print every 1000 mini-batches\n",
    "            print(\"Epoch \" + str(epoch + 1) + \" - Loss: \" + str(current_loss/1000) )\n",
    "            batch_loss.append(current_loss/1000)\n",
    "            current_loss = 0.0\n",
    "print('Finished Training')\n"
   ]
  },
  {
   "cell_type": "code",
   "execution_count": 96,
   "metadata": {},
   "outputs": [
    {
     "data": {
      "image/png": "[encoded data removed]",
      "text/plain": [
       "<Figure size 1000x1000 with 1 Axes>"
      ]
     },
     "metadata": {},
     "output_type": "display_data"
    }
   ],
   "source": [
    "epoch_loss = list()\n",
    "for i, lss in enumerate(batch_loss):\n",
    "    if(i % 5 == 0):\n",
    "        # print(i / 5 + 1, lss)\n",
    "        epoch_loss.append(lss)\n",
    "fig, ax = plt.subplots(figsize=(10,10), )\n",
    "\n",
    "x_epochs = list(range(1, 21))\n",
    "\n",
    "ax.plot(x_epochs, epoch_loss, linewidth=2.5)\n",
    "ax.set_title(\"Loss of Network througout 20 epochs of training\")\n",
    "ax.set_xlabel(\"Epoch\")\n",
    "ax.set_xticks(x_epochs)\n",
    "ax.set_ylabel(\"Loss\")\n",
    "\n",
    "plt.show()\n"
   ]
  },
  {
   "cell_type": "code",
   "execution_count": 82,
   "metadata": {},
   "outputs": [
    {
     "name": "stdout",
     "output_type": "stream",
     "text": [
      "Accuracy of the network on the 5000 test images: 90 %\n"
     ]
    }
   ],
   "source": [
    "correct = 0\n",
    "total = 0\n",
    "with torch.no_grad():\n",
    "    for data in testloader:\n",
    "        images, labels = data\n",
    "        \n",
    "        images = images.to(device)\n",
    "        labels = labels.to(device)\n",
    "        \n",
    "        outputs = network(images)\n",
    "        _, predicted = torch.max(outputs.data, 1)\n",
    "        total += labels.size(0)\n",
    "        correct += (predicted == labels).sum().item()\n",
    "\n",
    "print('Accuracy of the network on the 5000 test images: %d %%' % (\n",
    "    100 * correct / total))"
   ]
  },
  {
   "cell_type": "code",
   "execution_count": 83,
   "metadata": {},
   "outputs": [],
   "source": [
    "import os\n",
    "from torchvision import datasets, transforms\n",
    "\n",
    "data_dir = './data/test1'\n",
    "transform = transforms.Compose([transforms.Resize((256, 256)), transforms.ToTensor()])\n",
    "dummy_label = 0\n",
    "dataset = datasets.ImageFolder(data_dir, transform=transform)\n",
    "dataset.samples = [(path, dummy_label) for path, _ in dataset.samples]\n"
   ]
  },
  {
   "cell_type": "code",
   "execution_count": 97,
   "metadata": {},
   "outputs": [],
   "source": [
    "from torch.utils.data import DataLoader\n",
    "\n",
    "batch_size = 1\n",
    "dataloader = DataLoader(dataset, batch_size=batch_size, shuffle=False)\n",
    "\n",
    "i = 1\n",
    "for images, labels in dataloader:\n",
    "    outputs = network(images.to(device))\n",
    "    _, predicted = torch.max(outputs.data, 1)\n",
    "    with open('predictions.txt', 'w') as f:\n",
    "        f.write(str(i) + ' - ' + str(predicted.item()) + '\\n')\n",
    "    i+=1"
   ]
  }
 ],
 "metadata": {
  "kernelspec": {
   "display_name": "Python 3",
   "language": "python",
   "name": "python3"
  },
  "language_info": {
   "codemirror_mode": {
    "name": "ipython",
    "version": 3
   },
   "file_extension": ".py",
   "mimetype": "text/x-python",
   "name": "python",
   "nbconvert_exporter": "python",
   "pygments_lexer": "ipython3",
   "version": "3.11.3"
  },
  "orig_nbformat": 4
 },
 "nbformat": 4,
 "nbformat_minor": 2
}
